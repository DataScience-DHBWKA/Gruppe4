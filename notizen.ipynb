{
 "cells": [
  {
   "cell_type": "code",
   "execution_count": null,
   "metadata": {},
   "outputs": [],
   "source": [
    "Index(['Accident_Index', 'Accident Date', 'Day_of_Week', 'Junction_Control',\n",
    "       'Junction_Detail', 'Accident_Severity', 'Latitude', 'Light_Conditions',\n",
    "       'Local_Authority_(District)', 'Carriageway_Hazards', 'Longitude',\n",
    "       'Number_of_Casualties', 'Number_of_Vehicles', 'Police_Force',\n",
    "       'Road_Surface_Conditions', 'Road_Type', 'Speed_limit', 'Time',\n",
    "       'Urban_or_Rural_Area', 'Weather_Conditions', 'Vehicle_Type'],\n",
    "      dtype='object')"
   ]
  },
  {
   "cell_type": "code",
   "execution_count": null,
   "metadata": {},
   "outputs": [],
   "source": [
    "#sample_data = data.sample(frac=0.5)  # Hier wird eine Stichprobe von 50% der Daten ausgewählt\n",
    "\n",
    "# Dummy-Kodierung für nicht-numerische Spalten durchführen\n",
    "#dummy_data = pd.get_dummies(sample_data)\n",
    "\n",
    "# Korrelationsmatrix berechnen\n",
    "#correlation_matrix = dummy_data.corr()\n",
    "\n",
    "# Korrelationsmatrix mit Farben erstellen\n",
    "#plt.figure(figsize=(10, 8))\n",
    "#sns.heatmap(correlation_matrix, annot=True, cmap='coolwarm', fmt=\".2f\")\n",
    "#plt.title('Korrelationsmatrix')\n",
    "#plt.show()"
   ]
  },
  {
   "cell_type": "code",
   "execution_count": null,
   "metadata": {},
   "outputs": [],
   "source": [
    "#dummy_data = pd.get_dummies(data)\n",
    "\n",
    "# Korrelationsmatrix berechnen\n",
    "#correlation_matrix = dummy_data.corr()\n",
    "\n",
    "#plt.figure(figsize=(10, 8))\n",
    "#sns.heatmap(correlation_matrix, annot=False, cmap='coolwarm')\n",
    "#plt.title('Korrelationsmatrix')\n",
    "#plt.show()"
   ]
  },
  {
   "cell_type": "code",
   "execution_count": null,
   "metadata": {},
   "outputs": [],
   "source": [
    "\n",
    "plt.bar(anzahl['Time'], anzahl['Number_of_Casualties'])\n",
    "plt.xlabel('')\n",
    "plt.ylabel('Anzahl Unfälle')\n",
    "plt.title('')\n",
    "plt.xticks(rotation=45)  \n",
    "plt.tight_layout()  \n",
    "plt.show()"
   ]
  },
  {
   "cell_type": "code",
   "execution_count": null,
   "metadata": {},
   "outputs": [],
   "source": [
    "import matplotlib.pyplot as plt\n",
    "\n",
    "# Beispiel-Daten\n",
    "y = data['Junction_Control']\n",
    "x = data['Light_Conditions']\n",
    "\n",
    "# Streudiagramm erstellen\n",
    "plt.scatter(x, y, color='blue', label='Daten')\n",
    "\n",
    "# Achsenbeschriftungen und Titel hinzufügen\n",
    "plt.xlabel('X-Achse')\n",
    "plt.ylabel('Y-Achse')\n",
    "plt.title('Streudiagramm - Zusammenhang zweier Variablen')\n",
    "\n",
    "# Legende anzeigen\n",
    "plt.legend()\n",
    "\n",
    "# Diagramm anzeigen\n",
    "plt.show()"
   ]
  },
  {
   "cell_type": "code",
   "execution_count": null,
   "metadata": {},
   "outputs": [],
   "source": [
    "import pandas as pd\n",
    "import geopandas as gpd\n",
    "import matplotlib.pyplot as plt\n",
    "from shapely.geometry import Point\n",
    "\n",
    "\n",
    "# Daten als Geopandas DataFrame konvertieren\n",
    "geometry = [Point(xy) for xy in zip(data['Longitude'], data['Latitude'])]\n",
    "geo_df = gpd.GeoDataFrame(data, geometry=geometry)\n",
    "\n",
    "# Weltkarte von Geopandas laden\n",
    "world = gpd.read_file(gpd.datasets.get_path('naturalearth_lowres'))\n",
    "\n",
    "# Karte plotten\n",
    "fig, ax = plt.subplots(figsize=(10, 6))\n",
    "world.plot(ax=ax, color='lightgray', edgecolor='black')\n",
    "geo_df.plot(ax=ax, color='red', markersize=50, marker='o')\n",
    "ax.set_title('Koordinaten auf Weltkarte')\n",
    "plt.show()"
   ]
  }
 ],
 "metadata": {
  "language_info": {
   "name": "python"
  }
 },
 "nbformat": 4,
 "nbformat_minor": 2
}
